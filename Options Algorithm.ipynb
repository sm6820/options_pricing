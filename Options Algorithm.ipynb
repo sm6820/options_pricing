{
 "cells": [
  {
   "cell_type": "code",
   "execution_count": 14,
   "metadata": {},
   "outputs": [],
   "source": [
    "import numpy as np\n",
    "import matplotlib as mpl\n",
    "import matplotlib.pyplot as plt\n",
    "import sys\n",
    "import math\n",
    "import scipy\n",
    "import scipy.integrate\n",
    "mpl.rcParams['font.family'] = 'serif'"
   ]
  },
  {
   "cell_type": "code",
   "execution_count": 15,
   "metadata": {},
   "outputs": [],
   "source": [
    "sys.path.append('05_com')\n",
    "\n",
    "def dN(x):\n",
    "    ''' Probability density function of standard normal random variable x.'''\n",
    "    return math.exp(-0.5 * x ** 2) / math.sqrt(2 * math.pi)\n",
    "\n",
    "def N(d):\n",
    "    ''' Cumulative density function of standard normal random variable x. '''\n",
    "    return scipy.integrate.quad(lambda x: dN(x), -20, d, limit=50)[0]\n",
    "\n",
    "def d1f(St, K, t, T, r, sigma):\n",
    "    d1 = (math.log(St / K) + (r + 0.5 * sigma ** 2) \\\n",
    "          * (T - t)) / (sigma * math.sqrt(T - t))\n",
    "    return d1\n",
    "#\n",
    "# Valuation Functions\n",
    "#\n",
    "def BSM_call_value(St, K, t, T, r, sigma):\n",
    "    d1 = d1f(St, K, t, T, r, sigma)\n",
    "    d2 = d1 - sigma * math.sqrt(T - t)\n",
    "    call_value = St * N(d1) - math.exp(-r * (T - t)) * K * N(d2)\n",
    "    return call_value\n",
    "\n",
    "def BSM_put_value(St, K, t, T, r, sigma):\n",
    "    put_value = BSM_call_value(St, K, t, T, r, sigma) \\\n",
    "           - St + math.exp(-r * (T - t)) * K\n",
    "    return put_value\n"
   ]
  },
  {
   "cell_type": "code",
   "execution_count": 16,
   "metadata": {
    "scrolled": true
   },
   "outputs": [
    {
     "data": {
      "image/png": "[encoded data removed]",
      "text/plain": [
       "<Figure size 432x288 with 1 Axes>"
      ]
     },
     "metadata": {
      "needs_background": "light"
     },
     "output_type": "display_data"
    }
   ],
   "source": [
    "# Model and Option Parameters\n",
    "K = 8000  # strike price\n",
    "T = 1.0  # time-to-maturity\n",
    "r = 0.025  # constant, risk-less short rate\n",
    "vol = 0.2  # constant volatility\n",
    "# Sample Data Generation\n",
    "S = np.linspace(4000, 12000, 150)  # vector of index level values\n",
    "payoff = np.maximum(S - K, 0)  # inner value of option\n",
    "C = [BSM_call_value(S0, K, 0, T, r, vol) for S0 in S] # calculate call option values\n",
    "# Graphical Output\n",
    "plt.figure()\n",
    "plt.plot(S, payoff, 'b-.', lw=2.5, label='pay off')  # plot inner value at maturity\n",
    "plt.plot(S, C, 'r', lw=2.5, label='BSM Value') # plot option present value\n",
    "plt.grid(True)\n",
    "plt.legend(loc=0)\n",
    "plt.xlabel('index level $S_0$')\n",
    "plt.ylabel('present value $C(t=0)$');"
   ]
  },
  {
   "cell_type": "markdown",
   "metadata": {},
   "source": [
    "#### Factors influencing PV of call option:\n",
    "    - initial index level: closer to strike price more probable             for positive value\n",
    "    - volatility of index: higher volatility, better for holder\n",
    "    - time-to-maturity: more time, more valuable\n",
    "    - interest rate: used for discounting, lower i higher value\n",
    "    \n",
    "#### BSM: \n",
    "$C_{0}^{∗}$ = $C^{BSM}$($S_{0}$,K,T,r,𝜎)"
   ]
  },
  {
   "cell_type": "code",
   "execution_count": 11,
   "metadata": {},
   "outputs": [],
   "source": []
  },
  {
   "cell_type": "code",
   "execution_count": null,
   "metadata": {},
   "outputs": [],
   "source": []
  }
 ],
 "metadata": {
  "kernelspec": {
   "display_name": "Python 3",
   "language": "python",
   "name": "python3"
  },
  "language_info": {
   "codemirror_mode": {
    "name": "ipython",
    "version": 3
   },
   "file_extension": ".py",
   "mimetype": "text/x-python",
   "name": "python",
   "nbconvert_exporter": "python",
   "pygments_lexer": "ipython3",
   "version": "3.8.0"
  }
 },
 "nbformat": 4,
 "nbformat_minor": 2
}
